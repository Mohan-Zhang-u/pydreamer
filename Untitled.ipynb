{
 "cells": [
  {
   "cell_type": "code",
   "execution_count": 5,
   "metadata": {},
   "outputs": [],
   "source": [
    "import numpy as np\n",
    "from typing import Any, Dict, Tuple, Union\n",
    "\n",
    "f = \"./mlruns/0/f7963719f9724359b63d919361617f5f/artifacts/episodes/0/ep004962_004971-0-r0-1028.npz\" # unity\n",
    "\n",
    "# f = \"./mlruns/0/d895d523b6e54db1a1056e3cfc9a8224/artifacts/episodes/0/ep000174_000188-0-r0-1032.npz\"\n",
    "f = \"./mlruns/0/20065505f35948adb53e25c8f29d2e7d/artifacts/episodes/0/ep000000_000017-0-r-1-1056.npz\""
   ]
  },
  {
   "cell_type": "code",
   "execution_count": 11,
   "id": "dc9d363f",
   "metadata": {},
   "outputs": [],
   "source": [
    "fdata: Dict[str, np.ndarray] = np.load(f, allow_pickle=True)"
   ]
  },
  {
   "cell_type": "code",
   "execution_count": 12,
   "id": "102ebbb0",
   "metadata": {},
   "outputs": [
    {
     "data": {
      "text/plain": [
       "['image',\n",
       " 'action',\n",
       " 'reward',\n",
       " 'terminal',\n",
       " 'reset',\n",
       " 'policy_value',\n",
       " 'policy_entropy',\n",
       " 'action_prob']"
      ]
     },
     "execution_count": 12,
     "metadata": {},
     "output_type": "execute_result"
    }
   ],
   "source": [
    "list(fdata.keys())"
   ]
  },
  {
   "cell_type": "code",
   "execution_count": 19,
   "id": "dcd3b4a0",
   "metadata": {},
   "outputs": [
    {
     "data": {
      "text/plain": [
       "(64, 64, 3)"
      ]
     },
     "execution_count": 19,
     "metadata": {},
     "output_type": "execute_result"
    }
   ],
   "source": [
    "fdata['image'][3].shape"
   ]
  }
 ],
 "metadata": {
  "kernelspec": {
   "display_name": "Python 3.9.7 ('unity')",
   "language": "python",
   "name": "python3"
  },
  "language_info": {
   "codemirror_mode": {
    "name": "ipython",
    "version": 3
   },
   "file_extension": ".py",
   "mimetype": "text/x-python",
   "name": "python",
   "nbconvert_exporter": "python",
   "pygments_lexer": "ipython3",
   "version": "3.9.7"
  },
  "vscode": {
   "interpreter": {
    "hash": "66814aa9ea2f6fbf377750a5ea89465edd8ff675e005bd46bd7e5628bb08a0e5"
   }
  }
 },
 "nbformat": 4,
 "nbformat_minor": 5
}
